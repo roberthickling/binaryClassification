{
 "cells": [
  {
   "cell_type": "markdown",
   "metadata": {
    "deletable": true,
    "editable": true
   },
   "source": [
    "# Binary Classification Script\n",
    "This python notebook takes seperate csv's for the data used to build the model and the data used for the scoring. This is how some of the problems are given in kaggle competition."
   ]
  },
  {
   "cell_type": "code",
   "execution_count": 1,
   "metadata": {
    "collapsed": false,
    "deletable": true,
    "editable": true
   },
   "outputs": [
    {
     "name": "stdout",
     "output_type": "stream",
     "text": [
      "   PassengerId  Survived  Pclass  \\\n",
      "0            1         0       3   \n",
      "1            2         1       1   \n",
      "2            3         1       3   \n",
      "3            4         1       1   \n",
      "4            5         0       3   \n",
      "5            6         0       3   \n",
      "6            7         0       1   \n",
      "7            8         0       3   \n",
      "8            9         1       3   \n",
      "9           10         1       2   \n",
      "\n",
      "                                                Name     Sex   Age  SibSp  \\\n",
      "0                            Braund, Mr. Owen Harris    male  22.0      1   \n",
      "1  Cumings, Mrs. John Bradley (Florence Briggs Th...  female  38.0      1   \n",
      "2                             Heikkinen, Miss. Laina  female  26.0      0   \n",
      "3       Futrelle, Mrs. Jacques Heath (Lily May Peel)  female  35.0      1   \n",
      "4                           Allen, Mr. William Henry    male  35.0      0   \n",
      "5                                   Moran, Mr. James    male   NaN      0   \n",
      "6                            McCarthy, Mr. Timothy J    male  54.0      0   \n",
      "7                     Palsson, Master. Gosta Leonard    male   2.0      3   \n",
      "8  Johnson, Mrs. Oscar W (Elisabeth Vilhelmina Berg)  female  27.0      0   \n",
      "9                Nasser, Mrs. Nicholas (Adele Achem)  female  14.0      1   \n",
      "\n",
      "   Parch            Ticket     Fare Cabin Embarked  \n",
      "0      0         A/5 21171   7.2500   NaN        S  \n",
      "1      0          PC 17599  71.2833   C85        C  \n",
      "2      0  STON/O2. 3101282   7.9250   NaN        S  \n",
      "3      0            113803  53.1000  C123        S  \n",
      "4      0            373450   8.0500   NaN        S  \n",
      "5      0            330877   8.4583   NaN        Q  \n",
      "6      0             17463  51.8625   E46        S  \n",
      "7      1            349909  21.0750   NaN        S  \n",
      "8      2            347742  11.1333   NaN        S  \n",
      "9      0            237736  30.0708   NaN        C  \n"
     ]
    }
   ],
   "source": [
    "# standard binary classification modelling\n",
    "# input file\n",
    "import pandas as pd\n",
    "import numpy as np\n",
    "\n",
    "filename = '~/Documents/data/train.csv'\n",
    "#df_input = pd.read_csv(filename, sep='\\t', decimal=',', header=None)\n",
    "df_input = pd.read_csv(filename, sep=',')\n",
    "\n",
    "# get a view of the data\n",
    "print(df_input.head(10))\n",
    "#print(df_input.columns.values)\n",
    "#print(len(df_input.columns.values))"
   ]
  },
  {
   "cell_type": "markdown",
   "metadata": {
    "deletable": true,
    "editable": true
   },
   "source": [
    "## Variable Definition\n",
    "The cell below defines the variables in the dataset.\n",
    "\n",
    "- identifier: this identifies the record, e.g. customer_id (currently functionality only allows one)\n",
    "- target: this is the flag feature that you are predicting (currently functionality only allows one)\n",
    "- exclude: these are features to exclude for the model\n",
    "- categorical: these are categorical features that are set to flag variables by the model, this can be picked automatically if required\n",
    "\n",
    "The remaining fields are assumed to be numeric and continuous. Note that python may struggle with memory if there are too many features. Especially if a lot of these fields are categorical because numerous flag fields are created.\n",
    "\n",
    "The data is split into train and test by the fraction given in test_size (fraction of total data in test set)"
   ]
  },
  {
   "cell_type": "code",
   "execution_count": 2,
   "metadata": {
    "collapsed": false,
    "deletable": true,
    "editable": true
   },
   "outputs": [
    {
     "name": "stdout",
     "output_type": "stream",
     "text": [
      "Automatically Selected Categorical Features\n",
      "['Sex', 'Cabin', 'Embarked']\n"
     ]
    },
    {
     "name": "stderr",
     "output_type": "stream",
     "text": [
      "/Library/Frameworks/Python.framework/Versions/3.6/lib/python3.6/site-packages/sklearn/cross_validation.py:44: DeprecationWarning: This module was deprecated in version 0.18 in favor of the model_selection module into which all the refactored classes and functions are moved. Also note that the interface of the new CV iterators are different from that of this module. This module will be removed in 0.20.\n",
      "  \"This module will be removed in 0.20.\", DeprecationWarning)\n"
     ]
    }
   ],
   "source": [
    "# here we build the config of the file\n",
    "from sklearn.cross_validation import train_test_split\n",
    "\n",
    "allFields = list(df_input.columns.values)\n",
    "identifier = ['PassengerId'] # identifier such as customer id\n",
    "target = ['Survived'] # target field\n",
    "exclude = ['Name', 'Ticket'] # fields to exclude\n",
    "datetime = []\n",
    "\n",
    "#categorical = ['field5', 'field9','field10','field14'] # these categorical fields get set to flag\n",
    "categorical = [] # these categorical fields get set to flag\n",
    "for i in range(0, len(allFields)):\n",
    "    if df_input[allFields[i]].dtype == object and allFields[i] not in exclude+target+identifier+datetime:\n",
    "        categorical.append(allFields[i])\n",
    "print(\"Automatically Selected Categorical Features\")\n",
    "print(categorical)\n",
    "numeric = list(filter(lambda c: c not in target + categorical + exclude + identifier + datetime, allFields))\n",
    "\n",
    "#print(numeric)\n",
    "\n"
   ]
  },
  {
   "cell_type": "markdown",
   "metadata": {
    "deletable": true,
    "editable": true
   },
   "source": [
    "## Missing Values\n",
    "This tile can be used to replace some missing values. \n",
    "\n",
    "Using the field definitions above numeric fields missing values are replaced by the mean and categorical vairables missing values are replace by the mode."
   ]
  },
  {
   "cell_type": "code",
   "execution_count": 3,
   "metadata": {
    "collapsed": false,
    "deletable": true,
    "editable": true
   },
   "outputs": [],
   "source": [
    "# This tile fills in missing values\n",
    "\n",
    "for i in range(0, len(allFields)):\n",
    "    if allFields[i] in numeric:\n",
    "        #df_train.loc[:,allFields[i]].fillna(df_train[allFields[i]].mean(), inplace=True)\n",
    "        #df_test.loc[:,allFields[i]].fillna(df_test[allFields[i]].mean(), inplace=True)\n",
    "        df_input.loc[:,allFields[i]].fillna(df_input[allFields[i]].mean(), inplace=True)\n",
    "    elif allFields[i] in categorical:\n",
    "        #df_train.loc[:,allFields[i]].fillna(df_train[allFields[i]].mode().iloc[0], inplace=True)\n",
    "        #df_test.loc[:,allFields[i]].fillna(df_test[allFields[i]].mode().iloc[0], inplace=True)\n",
    "        df_input.loc[:,allFields[i]].fillna(df_input[allFields[i]].mode().iloc[0], inplace=True)\n",
    "    elif allFields[i] in datetime:\n",
    "        df_input[allFields[i]] = df_input[allFields[i]].replace({'1111-11-11': '1900-01-01'})\n",
    "    #print(i, df_train[allFields[i]].isnull().sum())\n"
   ]
  },
  {
   "cell_type": "markdown",
   "metadata": {
    "deletable": true,
    "editable": true
   },
   "source": [
    "## Datetime Features\n",
    "Need to build something that deals with datetime fields. This tile is the placeholder for that."
   ]
  },
  {
   "cell_type": "code",
   "execution_count": 4,
   "metadata": {
    "collapsed": false,
    "deletable": true,
    "editable": true
   },
   "outputs": [],
   "source": [
    "import datetime as dt\n",
    "\n",
    "for i in range(0, len(datetime)):\n",
    "    columnName = str(datetime[i])+'_dt'\n",
    "    daysToToday =  pd.to_datetime('today') - pd.to_datetime(df_input[datetime[i]])\n",
    "    days = daysToToday.astype('timedelta64[D]')\n",
    "    #days = days // np.timedelta64(1, 'D')\n",
    "    df_input[columnName] = days\n",
    "    #df_input[columnName] = pd.to_datetime('today') - pd.to_datetime(df_input[datetime[i]])\n",
    "#df_input.head()"
   ]
  },
  {
   "cell_type": "markdown",
   "metadata": {
    "deletable": true,
    "editable": true
   },
   "source": [
    "## Categorical Features\n",
    "The loop below turns the categorical features into a series of flag variables.\n",
    "\n",
    "For example a field, gender that contains 'M' or 'F' is turned into two flag fields gender_M and gender_F"
   ]
  },
  {
   "cell_type": "code",
   "execution_count": 5,
   "metadata": {
    "collapsed": false,
    "deletable": true,
    "editable": true
   },
   "outputs": [],
   "source": [
    "# turns categorical variables into numerical (set to flag)\n",
    "for i in range(0, len(categorical)):\n",
    "    #dummy_cat_train = pd.get_dummies(df_train[categorical[i]], prefix=categorical[i])\n",
    "    #dummy_cat_test = pd.get_dummies(df_test[categorical[i]], prefix=categorical[i])\n",
    "    dummy_cat_input = pd.get_dummies(df_input[categorical[i]], prefix=categorical[i])\n",
    "    #df_train = df_train.join(dummy_cat_train)\n",
    "    #df_test= df_test.join(dummy_cat_test)\n",
    "    df_input= df_input.join(dummy_cat_input)\n",
    "\n",
    "#df_train.head(5)"
   ]
  },
  {
   "cell_type": "markdown",
   "metadata": {
    "deletable": true,
    "editable": true
   },
   "source": [
    "## Arrayify data\n",
    "Function from another script that turns a dataframe into numpy arrays of the target variable and the independent features. In addition a list of the features is given."
   ]
  },
  {
   "cell_type": "code",
   "execution_count": 6,
   "metadata": {
    "collapsed": true,
    "deletable": true,
    "editable": true
   },
   "outputs": [],
   "source": [
    "def arrayify_data_and_target(data, label, exclude):\n",
    "    \"\"\"\n",
    "    :param data: pandas DataFrame to split in to data and target\n",
    "    :param label: name of the column to be used as target variable\n",
    "    :param exclude: list of columns to exclude\n",
    "    :return: (data, target, features)\n",
    "    \"\"\"\n",
    "    target = data[label]\n",
    "    independent = data.drop(exclude, axis=1)\n",
    "    return np.array(independent), np.array(target), independent.columns.values"
   ]
  },
  {
   "cell_type": "markdown",
   "metadata": {
    "deletable": true,
    "editable": true
   },
   "source": [
    "## Drop Fields"
   ]
  },
  {
   "cell_type": "code",
   "execution_count": 7,
   "metadata": {
    "collapsed": false,
    "deletable": true,
    "editable": true
   },
   "outputs": [],
   "source": [
    "# remove all the fields not required\n",
    "df_train, df_test = train_test_split(df_input, test_size = 0.1)\n",
    "to_drop = exclude + target + categorical + identifier+ datetime\n",
    "X_train, Y_train, features_train = arrayify_data_and_target(df_train, target, to_drop)\n",
    "X_test, Y_test, features_test = arrayify_data_and_target(df_test, target, to_drop)"
   ]
  },
  {
   "cell_type": "markdown",
   "metadata": {
    "deletable": true,
    "editable": true
   },
   "source": [
    "## Define Classifiers\n",
    "Define the classifiers for the fit. All from sklearn. Turn off verbose to reduce output."
   ]
  },
  {
   "cell_type": "code",
   "execution_count": 8,
   "metadata": {
    "collapsed": false,
    "deletable": true,
    "editable": true
   },
   "outputs": [],
   "source": [
    "# build the classifiers\n",
    "from sklearn.linear_model import LogisticRegression\n",
    "from sklearn.ensemble import RandomForestClassifier, AdaBoostClassifier, GradientBoostingClassifier\n",
    "from sklearn.svm import SVC\n",
    "from sklearn.tree import DecisionTreeClassifier\n",
    "\n",
    "#clf = LogisticRegression(C=1, verbose=5, max_iter=300)\n",
    "#LR_balanced = LogisticRegression(C=1, class_weight='balanced', max_iter=300, verbose=0)\n",
    "#ada = AdaBoostClassifier(n_estimators=200)\n",
    "RF = RandomForestClassifier(n_estimators=200, class_weight='balanced', max_leaf_nodes=300, max_features='auto', verbose=5)\n",
    "#RF_noBS = RandomForestClassifier(n_estimators=500, class_weight='balanced', max_leaf_nodes=300, max_features='auto', verbose=5, bootstrap=False)\n",
    "gradBoost = GradientBoostingClassifier(n_estimators=200, loss='exponential', max_leaf_nodes=300, verbose=5)\n",
    "\n",
    "#clf = SVC(probability=True, verbose=5, class_weight='balanced')"
   ]
  },
  {
   "cell_type": "markdown",
   "metadata": {
    "deletable": true,
    "editable": true
   },
   "source": [
    "## Fit Models"
   ]
  },
  {
   "cell_type": "code",
   "execution_count": 9,
   "metadata": {
    "collapsed": false,
    "deletable": true,
    "editable": true
   },
   "outputs": [
    {
     "name": "stdout",
     "output_type": "stream",
     "text": [
      "building tree 1 of 200\n",
      "building tree 2 of 200\n",
      "building tree 3 of 200\n",
      "building tree 4 of 200\n",
      "building tree 5 of 200\n",
      "building tree 6 of 200\n",
      "building tree 7 of 200\n",
      "building tree 8 of 200\n",
      "building tree 9 of 200\n",
      "building tree 10 of 200\n",
      "building tree 11 of 200\n",
      "building tree 12 of 200\n",
      "building tree 13 of 200\n",
      "building tree 14 of 200\n",
      "building tree 15 of 200\n",
      "building tree 16 of 200\n",
      "building tree 17 of 200\n",
      "building tree 18 of 200\n",
      "building tree 19 of 200\n",
      "building tree 20 of 200\n",
      "building tree 21 of 200\n",
      "building tree 22 of 200\n",
      "building tree 23 of 200\n",
      "building tree 24 of 200\n",
      "building tree 25 of 200\n",
      "building tree 26 of 200\n",
      "building tree 27 of 200\n",
      "building tree 28 of 200\n",
      "building tree 29 of 200\n",
      "building tree 30 of 200\n",
      "building tree 31 of 200\n",
      "building tree 32 of 200\n",
      "building tree 33 of 200\n",
      "building tree 34 of 200\n",
      "building tree 35 of 200\n",
      "building tree 36 of 200\n",
      "building tree 37 of 200\n",
      "building tree 38 of 200\n",
      "building tree 39 of 200\n",
      "building tree 40 of 200\n",
      "building tree 41 of 200\n",
      "building tree 42 of 200\n",
      "building tree 43 of 200\n",
      "building tree 44 of 200\n",
      "building tree 45 of 200\n",
      "building tree 46 of 200\n",
      "building tree 47 of 200\n",
      "building tree 48 of 200\n",
      "building tree 49 of 200\n",
      "building tree 50 of 200\n",
      "building tree 51 of 200\n",
      "building tree 52 of 200\n",
      "building tree 53 of 200\n",
      "building tree 54 of 200\n",
      "building tree 55 of 200\n",
      "building tree 56 of 200\n",
      "building tree 57 of 200\n",
      "building tree 58 of 200\n",
      "building tree 59 of 200\n",
      "building tree 60 of 200\n",
      "building tree 61 of 200\n",
      "building tree 62 of 200\n",
      "building tree 63 of 200\n",
      "building tree 64 of 200\n",
      "building tree 65 of 200\n",
      "building tree 66 of 200\n",
      "building tree 67 of 200\n",
      "building tree 68 of 200\n",
      "building tree 69 of 200\n",
      "building tree 70 of 200\n",
      "building tree 71 of 200\n",
      "building tree 72 of 200\n",
      "building tree 73 of 200\n",
      "building tree 74 of 200\n",
      "building tree 75 of 200\n",
      "building tree 76 of 200\n",
      "building tree 77 of 200\n",
      "building tree 78 of 200\n",
      "building tree 79 of 200\n",
      "building tree 80 of 200\n",
      "building tree 81 of 200\n",
      "building tree 82 of 200\n",
      "building tree 83 of 200\n",
      "building tree 84 of 200\n",
      "building tree 85 of 200\n",
      "building tree 86 of 200\n",
      "building tree 87 of 200\n",
      "building tree 88 of 200\n",
      "building tree 89 of 200\n",
      "building tree 90 of 200\n",
      "building tree 91 of 200\n",
      "building tree 92 of 200\n",
      "building tree 93 of 200\n",
      "building tree 94 of 200\n",
      "building tree 95 of 200\n",
      "building tree 96 of 200\n",
      "building tree 97 of 200\n",
      "building tree 98 of 200\n",
      "building tree 99 of 200\n",
      "building tree 100 of 200\n",
      "building tree 101 of 200\n",
      "building tree 102 of 200\n",
      "building tree 103 of 200\n",
      "building tree 104 of 200\n",
      "building tree 105 of 200\n",
      "building tree 106 of 200\n",
      "building tree 107 of 200\n",
      "building tree 108 of 200\n",
      "building tree 109 of 200\n",
      "building tree 110 of 200\n",
      "building tree 111 of 200\n",
      "building tree 112 of 200\n",
      "building tree 113 of 200\n"
     ]
    },
    {
     "name": "stderr",
     "output_type": "stream",
     "text": [
      "[Parallel(n_jobs=1)]: Done   1 out of   1 | elapsed:    0.0s remaining:    0.0s\n",
      "[Parallel(n_jobs=1)]: Done   2 out of   2 | elapsed:    0.0s remaining:    0.0s\n",
      "[Parallel(n_jobs=1)]: Done   3 out of   3 | elapsed:    0.0s remaining:    0.0s\n",
      "[Parallel(n_jobs=1)]: Done   4 out of   4 | elapsed:    0.0s remaining:    0.0s\n"
     ]
    },
    {
     "name": "stdout",
     "output_type": "stream",
     "text": [
      "building tree 114 of 200\n",
      "building tree 115 of 200\n",
      "building tree 116 of 200\n",
      "building tree 117 of 200\n",
      "building tree 118 of 200\n",
      "building tree 119 of 200\n",
      "building tree 120 of 200\n",
      "building tree 121 of 200\n",
      "building tree 122 of 200\n",
      "building tree 123 of 200\n",
      "building tree 124 of 200\n",
      "building tree 125 of 200\n",
      "building tree 126 of 200\n",
      "building tree 127 of 200\n",
      "building tree 128 of 200\n",
      "building tree 129 of 200\n",
      "building tree 130 of 200\n",
      "building tree 131 of 200\n",
      "building tree 132 of 200\n",
      "building tree 133 of 200\n",
      "building tree 134 of 200\n",
      "building tree 135 of 200\n",
      "building tree 136 of 200\n",
      "building tree 137 of 200\n",
      "building tree 138 of 200\n",
      "building tree 139 of 200\n",
      "building tree 140 of 200\n",
      "building tree 141 of 200\n",
      "building tree 142 of 200\n",
      "building tree 143 of 200\n",
      "building tree 144 of 200\n",
      "building tree 145 of 200\n",
      "building tree 146 of 200\n",
      "building tree 147 of 200\n",
      "building tree 148 of 200\n",
      "building tree 149 of 200\n",
      "building tree 150 of 200\n",
      "building tree 151 of 200\n",
      "building tree 152 of 200\n",
      "building tree 153 of 200\n",
      "building tree 154 of 200\n",
      "building tree 155 of 200\n",
      "building tree 156 of 200\n",
      "building tree 157 of 200\n",
      "building tree 158 of 200\n",
      "building tree 159 of 200\n",
      "building tree 160 of 200\n",
      "building tree 161 of 200\n",
      "building tree 162 of 200\n",
      "building tree 163 of 200\n",
      "building tree 164 of 200\n",
      "building tree 165 of 200\n",
      "building tree 166 of 200\n",
      "building tree 167 of 200\n",
      "building tree 168 of 200\n",
      "building tree 169 of 200\n",
      "building tree 170 of 200\n",
      "building tree 171 of 200\n",
      "building tree 172 of 200\n",
      "building tree 173 of 200\n",
      "building tree 174 of 200\n",
      "building tree 175 of 200\n",
      "building tree 176 of 200\n",
      "building tree 177 of 200\n",
      "building tree 178 of 200\n",
      "building tree 179 of 200\n",
      "building tree 180 of 200\n",
      "building tree 181 of 200\n",
      "building tree 182 of 200\n",
      "building tree 183 of 200\n",
      "building tree 184 of 200\n",
      "building tree 185 of 200\n",
      "building tree 186 of 200\n",
      "building tree 187 of 200\n",
      "building tree 188 of 200\n",
      "building tree 189 of 200\n",
      "building tree 190 of 200\n",
      "building tree 191 of 200\n",
      "building tree 192 of 200\n",
      "building tree 193 of 200\n",
      "building tree 194 of 200\n",
      "building tree 195 of 200\n",
      "building tree 196 of 200\n",
      "building tree 197 of 200\n",
      "building tree 198 of 200\n",
      "building tree 199 of 200\n",
      "building tree 200 of 200\n",
      "      Iter       Train Loss   Remaining Time \n",
      "         1           0.9264            1.54s\n",
      "         2           0.8846            1.31s\n",
      "         3           0.8483            1.17s\n",
      "         4           0.8165            1.09s\n",
      "         5           0.7871            1.04s\n",
      "         6           0.7624            1.00s\n"
     ]
    },
    {
     "name": "stderr",
     "output_type": "stream",
     "text": [
      "[Parallel(n_jobs=1)]: Done 200 out of 200 | elapsed:    0.4s finished\n"
     ]
    },
    {
     "name": "stdout",
     "output_type": "stream",
     "text": [
      "         7           0.7414            0.98s\n",
      "         8           0.7221            0.97s\n",
      "         9           0.7050            0.95s\n",
      "        10           0.6892            0.96s\n",
      "        11           0.6755            0.99s\n",
      "        12           0.6621            0.99s\n",
      "        13           0.6511            1.00s\n",
      "        14           0.6416            0.98s\n",
      "        15           0.6309            0.96s\n",
      "        16           0.6236            0.95s\n",
      "        17           0.6171            0.93s\n",
      "        18           0.6099            0.92s\n",
      "        19           0.6069            0.89s\n",
      "        20           0.6000            0.88s\n",
      "        21           0.5943            0.87s\n",
      "        22           0.5919            0.85s\n",
      "        23           0.5857            0.84s\n",
      "        24           0.5804            0.83s\n",
      "        25           0.5757            0.81s\n",
      "        26           0.5730            0.80s\n",
      "        27           0.5690            0.79s\n",
      "        28           0.5670            0.78s\n",
      "        29           0.5611            0.77s\n",
      "        30           0.5574            0.76s\n",
      "        31           0.5531            0.75s\n",
      "        32           0.5516            0.74s\n",
      "        33           0.5471            0.73s\n",
      "        34           0.5413            0.72s\n",
      "        35           0.5406            0.71s\n",
      "        36           0.5392            0.69s\n",
      "        37           0.5379            0.68s\n",
      "        38           0.5374            0.66s\n",
      "        39           0.5367            0.65s\n",
      "        40           0.5361            0.63s\n",
      "        41           0.5349            0.62s\n",
      "        42           0.5336            0.61s\n",
      "        43           0.5332            0.60s\n",
      "        44           0.5325            0.59s\n",
      "        45           0.5320            0.58s\n",
      "        46           0.5308            0.57s\n",
      "        47           0.5302            0.56s\n",
      "        48           0.5297            0.55s\n",
      "        49           0.5293            0.54s\n",
      "        50           0.5281            0.53s\n",
      "        51           0.5277            0.52s\n",
      "        52           0.5266            0.51s\n",
      "        53           0.5262            0.51s\n",
      "        54           0.5252            0.50s\n",
      "        55           0.5246            0.49s\n",
      "        56           0.5242            0.49s\n",
      "        57           0.5232            0.48s\n",
      "        58           0.5224            0.47s\n",
      "        59           0.5189            0.47s\n",
      "        60           0.5185            0.47s\n",
      "        61           0.5180            0.46s\n",
      "        62           0.5175            0.46s\n",
      "        63           0.5163            0.45s\n",
      "        64           0.5158            0.44s\n",
      "        65           0.5153            0.44s\n",
      "        66           0.5149            0.43s\n",
      "        67           0.5144            0.43s\n",
      "        68           0.5139            0.43s\n",
      "        69           0.5134            0.42s\n",
      "        70           0.5124            0.42s\n",
      "        71           0.5118            0.41s\n",
      "        72           0.5114            0.41s\n",
      "        73           0.5109            0.40s\n",
      "        74           0.5092            0.40s\n",
      "        75           0.5088            0.39s\n",
      "        76           0.5084            0.39s\n",
      "        77           0.5080            0.38s\n",
      "        78           0.5077            0.38s\n",
      "        79           0.5073            0.37s\n",
      "        80           0.5062            0.37s\n",
      "        81           0.5059            0.36s\n",
      "        82           0.5055            0.36s\n",
      "        83           0.5050            0.36s\n",
      "        84           0.5046            0.35s\n",
      "        85           0.5042            0.35s\n",
      "        86           0.5038            0.35s\n",
      "        87           0.5008            0.35s\n",
      "        88           0.5004            0.34s\n",
      "        89           0.5001            0.34s\n",
      "        90           0.4996            0.33s\n",
      "        91           0.4989            0.33s\n",
      "        92           0.4986            0.32s\n",
      "        93           0.4981            0.32s\n",
      "        94           0.4959            0.32s\n",
      "        95           0.4956            0.31s\n",
      "        96           0.4947            0.31s\n",
      "        97           0.4942            0.30s\n",
      "        98           0.4938            0.30s\n",
      "        99           0.4934            0.30s\n",
      "       100           0.4931            0.29s\n",
      "       101           0.4903            0.29s\n",
      "       102           0.4892            0.28s\n",
      "       103           0.4888            0.28s\n",
      "       104           0.4885            0.28s\n",
      "       105           0.4882            0.27s\n",
      "       106           0.4879            0.27s\n",
      "       107           0.4875            0.26s\n",
      "       108           0.4872            0.26s\n",
      "       109           0.4865            0.26s\n",
      "       110           0.4854            0.25s\n",
      "       111           0.4850            0.25s\n",
      "       112           0.4847            0.25s\n",
      "       113           0.4844            0.24s\n",
      "       114           0.4841            0.24s\n",
      "       115           0.4838            0.24s\n",
      "       116           0.4833            0.23s\n",
      "       117           0.4830            0.23s\n",
      "       118           0.4827            0.22s\n",
      "       119           0.4820            0.22s\n",
      "       120           0.4805            0.22s\n",
      "       121           0.4802            0.22s\n",
      "       122           0.4798            0.21s\n",
      "       123           0.4795            0.21s\n",
      "       124           0.4786            0.21s\n",
      "       125           0.4783            0.20s\n",
      "       126           0.4773            0.20s\n",
      "       127           0.4770            0.20s\n",
      "       128           0.4768            0.19s\n",
      "       129           0.4759            0.19s\n",
      "       130           0.4756            0.19s\n",
      "       131           0.4729            0.18s\n",
      "       132           0.4704            0.18s\n",
      "       133           0.4691            0.18s\n",
      "       134           0.4688            0.18s\n",
      "       135           0.4681            0.17s\n",
      "       136           0.4659            0.17s\n",
      "       137           0.4656            0.17s\n",
      "       138           0.4652            0.16s\n",
      "       139           0.4650            0.16s\n",
      "       140           0.4634            0.16s\n",
      "       141           0.4620            0.16s\n",
      "       142           0.4591            0.15s\n",
      "       143           0.4588            0.15s\n",
      "       144           0.4549            0.15s\n",
      "       145           0.4543            0.15s\n",
      "       146           0.4533            0.14s\n",
      "       147           0.4485            0.14s\n",
      "       148           0.4478            0.14s\n",
      "       149           0.4461            0.14s\n",
      "       150           0.4458            0.13s\n",
      "       151           0.4456            0.13s\n",
      "       152           0.4453            0.13s\n",
      "       153           0.4450            0.12s\n",
      "       154           0.4441            0.12s\n",
      "       155           0.4439            0.12s\n",
      "       156           0.4424            0.12s\n",
      "       157           0.4422            0.11s\n",
      "       158           0.4413            0.11s\n",
      "       159           0.4406            0.11s\n",
      "       160           0.4403            0.11s\n",
      "       161           0.4400            0.10s\n",
      "       162           0.4367            0.10s\n",
      "       163           0.4362            0.10s\n",
      "       164           0.4359            0.10s\n",
      "       165           0.4356            0.09s\n",
      "       166           0.4336            0.09s\n",
      "       167           0.4318            0.09s\n",
      "       168           0.4304            0.09s\n",
      "       169           0.4301            0.08s\n",
      "       170           0.4290            0.08s\n",
      "       171           0.4287            0.08s\n",
      "       172           0.4283            0.07s\n",
      "       173           0.4280            0.07s\n",
      "       174           0.4278            0.07s\n",
      "       175           0.4275            0.07s\n",
      "       176           0.4271            0.06s\n",
      "       177           0.4269            0.06s\n",
      "       178           0.4266            0.06s\n",
      "       179           0.4259            0.06s\n",
      "       180           0.4257            0.05s\n",
      "       181           0.4254            0.05s\n",
      "       182           0.4252            0.05s\n",
      "       183           0.4249            0.04s\n",
      "       184           0.4233            0.04s\n",
      "       185           0.4217            0.04s\n",
      "       186           0.4213            0.04s\n",
      "       187           0.4210            0.03s\n",
      "       188           0.4199            0.03s\n",
      "       189           0.4197            0.03s\n",
      "       190           0.4194            0.03s\n",
      "       191           0.4189            0.02s\n",
      "       192           0.4187            0.02s\n",
      "       193           0.4156            0.02s\n",
      "       194           0.4114            0.02s\n",
      "       195           0.4101            0.01s\n",
      "       196           0.4099            0.01s\n",
      "       197           0.4087            0.01s\n",
      "       198           0.4051            0.01s\n",
      "       199           0.4047            0.00s\n",
      "       200           0.4029            0.00s\n"
     ]
    }
   ],
   "source": [
    "# fit the model(s) then score the test set\n",
    "#LR_balanced_model = LR_balanced.fit(X_train, Y_train.ravel())\n",
    "#ada_model = ada.fit(X_train, Y_train.ravel())\n",
    "RF_model = RF.fit(X_train, Y_train.ravel())\n",
    "#RF_model_noBS = RF_noBS.fit(X_train, Y_train.ravel())\n",
    "gradBoost_model = gradBoost.fit(X_train, Y_train.ravel())"
   ]
  },
  {
   "cell_type": "markdown",
   "metadata": {
    "deletable": true,
    "editable": true
   },
   "source": [
    "## Score Test Sets"
   ]
  },
  {
   "cell_type": "code",
   "execution_count": 10,
   "metadata": {
    "collapsed": false,
    "deletable": true,
    "editable": true
   },
   "outputs": [
    {
     "name": "stderr",
     "output_type": "stream",
     "text": [
      "[Parallel(n_jobs=1)]: Done   1 out of   1 | elapsed:    0.0s remaining:    0.0s\n",
      "[Parallel(n_jobs=1)]: Done   2 out of   2 | elapsed:    0.0s remaining:    0.0s\n",
      "[Parallel(n_jobs=1)]: Done   3 out of   3 | elapsed:    0.0s remaining:    0.0s\n",
      "[Parallel(n_jobs=1)]: Done   4 out of   4 | elapsed:    0.0s remaining:    0.0s\n",
      "[Parallel(n_jobs=1)]: Done 200 out of 200 | elapsed:    0.0s finished\n"
     ]
    }
   ],
   "source": [
    "#Y_scores_LRb = LR_balanced_model.predict_proba(X_test)[:, 1]\n",
    "#Y_scores_ada = ada_model.predict_proba(X_test)[:, 1]\n",
    "Y_scores_RF = RF_model.predict_proba(X_test)[:, 1]\n",
    "#Y_scores_RF_noBS = RF_model_noBS.predict_proba(X_test)[:, 1]\n",
    "Y_scores_gradBoost = gradBoost_model.predict_proba(X_test)[:, 1]"
   ]
  },
  {
   "cell_type": "markdown",
   "metadata": {
    "deletable": true,
    "editable": true
   },
   "source": [
    "## Build ROC Curve Data"
   ]
  },
  {
   "cell_type": "code",
   "execution_count": 11,
   "metadata": {
    "collapsed": false,
    "deletable": true,
    "editable": true
   },
   "outputs": [],
   "source": [
    "# create fpr and tpr for the model outputs\n",
    "from sklearn.metrics import roc_curve, auc, precision_recall_curve, confusion_matrix\n",
    "\n",
    "#fpr_lrb, tpr_lrb, thresholds_lrb = roc_curve(Y_test, Y_scores_LRb)\n",
    "#fpr_ada, tpr_ada, thresholds_ada = roc_curve(Y_test, Y_scores_ada)\n",
    "fpr_RF, tpr_RF, thresholds_RF = roc_curve(Y_test, Y_scores_RF)\n",
    "#fpr_RF_noBS, tpr_RF_noBS, thresholds_RF_noBS = roc_curve(Y_test, Y_scores_RF_noBS)\n",
    "\n",
    "fpr_gb, tpr_gb, thresholds_gb = roc_curve(Y_test, Y_scores_gradBoost)"
   ]
  },
  {
   "cell_type": "markdown",
   "metadata": {
    "deletable": true,
    "editable": true
   },
   "source": [
    "## Draw the ROC Curve\n",
    "This is drawn here to compare the classifiers. Further plots and details on single classifier can be created using the lift report function below."
   ]
  },
  {
   "cell_type": "code",
   "execution_count": 12,
   "metadata": {
    "collapsed": false,
    "deletable": true,
    "editable": true
   },
   "outputs": [
    {
     "data": {
      "image/png": "[encoded data removed]",
      "text/plain": [
       "<matplotlib.figure.Figure at 0x10a4fc2e8>"
      ]
     },
     "metadata": {},
     "output_type": "display_data"
    }
   ],
   "source": [
    "# Standard sklearn ROC curve\n",
    "#roc_auc=round(scores['AUC score'],3)\n",
    "%matplotlib inline\n",
    "import matplotlib.pyplot as plt\n",
    "#roc_auc_lrb = auc(fpr_lrb, tpr_lrb)\n",
    "#roc_auc_ada = auc(fpr_ada, tpr_ada)\n",
    "roc_auc_RF = auc(fpr_RF, tpr_RF)\n",
    "#roc_auc_RF_noBS = auc(fpr_RF_noBS, tpr_RF_noBS)\n",
    "roc_auc_gb = auc(fpr_gb, tpr_gb)\n",
    "\n",
    "plt.figure(figsize=(12,7))\n",
    "#plt.plot(fpr_lrb, tpr_lrb, label='Logistic Regression - ROC AUC: '+str(round(roc_auc_lrb,3)))\n",
    "#plt.plot(fpr_ada, tpr_ada, label='Ada Boost - ROC AUC: '+str(round(roc_auc_ada,3)))\n",
    "plt.plot(fpr_RF, tpr_RF, label='Random Forest - ROC AUC: '+str(round(roc_auc_RF,3)))\n",
    "#plt.plot(fpr_RF_noBS, tpr_RF_noBS, label='Random Forest no BS - ROC AUC: '+str(round(roc_auc_RF,3)))\n",
    "plt.plot(fpr_gb, tpr_gb, label='Gradient Boost - ROC AUC: '+str(round(roc_auc_gb,3)))\n",
    "\n",
    "plt.plot([0, 1], [0, 1], 'k--', label='Random Selection')\n",
    "plt.grid()\n",
    "plt.xlim([0.0, 1])\n",
    "plt.ylim([0.0, 1.05])\n",
    "plt.xticks(np.arange(0, 1.1, 0.1))\n",
    "plt.yticks(np.arange(0, 1.1, 0.1))\n",
    "plt.xlabel('False Positive Rate', fontsize=20)\n",
    "plt.ylabel('True Positive Rate', fontsize=20)\n",
    "plt.legend(loc=\"lower right\", fontsize=18)\n",
    "#plt.savefig(\"ROC_Curve_NLB_RF_GB_t1t2_fullwhack.pdf\")\n",
    "plt.show()\n",
    "plt.close()"
   ]
  },
  {
   "cell_type": "markdown",
   "metadata": {
    "deletable": true,
    "editable": true
   },
   "source": [
    "## Predictor Importances\n",
    "Below is an example of how to output predictor importances. Note that some classifiers obviously dont have importances such as logistic regression (feature\\_coefficients\\_ can be used instead)."
   ]
  },
  {
   "cell_type": "code",
   "execution_count": 13,
   "metadata": {
    "collapsed": false,
    "deletable": true,
    "editable": true
   },
   "outputs": [
    {
     "name": "stdout",
     "output_type": "stream",
     "text": [
      "Feature: Fare Importance: 0.217153788619\n",
      "Feature: Age Importance: 0.209671259793\n",
      "Feature: Sex_male Importance: 0.127841650384\n",
      "Feature: Sex_female Importance: 0.125396588173\n",
      "Feature: Pclass Importance: 0.0669462555531\n",
      "Feature: SibSp Importance: 0.0475594129219\n",
      "Feature: Parch Importance: 0.0412519055883\n",
      "Feature: Cabin_B96 B98 Importance: 0.0340123457129\n",
      "Feature: Embarked_S Importance: 0.0127113569434\n",
      "Feature: Embarked_C Importance: 0.0113499760548\n",
      "Feature: Embarked_Q Importance: 0.00691819133244\n",
      "Feature: Cabin_C52 Importance: 0.00323737051534\n",
      "Feature: Cabin_E24 Importance: 0.00323635289738\n",
      "Feature: Cabin_C22 C26 Importance: 0.00311404719429\n",
      "Feature: Cabin_E25 Importance: 0.00290665048088\n",
      "Feature: Cabin_E10 Importance: 0.00223898286665\n",
      "Feature: Cabin_C126 Importance: 0.00211454606012\n",
      "Feature: Cabin_D56 Importance: 0.00203899949121\n",
      "Feature: Cabin_E77 Importance: 0.0019431281303\n",
      "Feature: Cabin_C49 Importance: 0.00191210062744\n",
      "Feature: Cabin_E17 Importance: 0.00188125483396\n",
      "Feature: Cabin_C104 Importance: 0.00171097900818\n",
      "Feature: Cabin_C106 Importance: 0.00163097909266\n",
      "Feature: Cabin_B20 Importance: 0.00162954994858\n",
      "Feature: Cabin_A23 Importance: 0.0015845109461\n",
      "Feature: Cabin_C124 Importance: 0.00150410850751\n",
      "Feature: Cabin_D45 Importance: 0.00143205010589\n",
      "Feature: Cabin_A6 Importance: 0.00139514949147\n",
      "Feature: Cabin_A26 Importance: 0.0013676359694\n",
      "Feature: Cabin_D35 Importance: 0.00135794277809\n",
      "Feature: Cabin_E8 Importance: 0.00135410872477\n",
      "Feature: Cabin_D19 Importance: 0.00134604621134\n",
      "Feature: Cabin_F2 Importance: 0.00129379245981\n",
      "Feature: Cabin_C47 Importance: 0.00125313232288\n",
      "Feature: Cabin_B50 Importance: 0.00123053300064\n",
      "Feature: Cabin_E121 Importance: 0.00122822996161\n",
      "Feature: Cabin_C93 Importance: 0.00120066920362\n",
      "Feature: Cabin_B101 Importance: 0.00119889730933\n",
      "Feature: Cabin_D26 Importance: 0.00119181738537\n",
      "Feature: Cabin_G6 Importance: 0.00118248705478\n",
      "Feature: Cabin_F33 Importance: 0.00108114360413\n",
      "Feature: Cabin_B51 B53 B55 Importance: 0.00103269193956\n",
      "Feature: Cabin_D49 Importance: 0.00102167474365\n",
      "Feature: Cabin_B49 Importance: 0.00101742306237\n",
      "Feature: Cabin_D33 Importance: 0.000970189169583\n",
      "Feature: Cabin_A31 Importance: 0.000962356556379\n",
      "Feature: Cabin_E101 Importance: 0.000947100451763\n",
      "Feature: Cabin_E50 Importance: 0.000945729186835\n",
      "Feature: Cabin_B82 B84 Importance: 0.000937330708016\n",
      "Feature: Cabin_A20 Importance: 0.000915821410116\n",
      "Feature: Cabin_A10 Importance: 0.000913042026598\n",
      "Feature: Cabin_B86 Importance: 0.000906773883213\n",
      "Feature: Cabin_C111 Importance: 0.000898325651405\n",
      "Feature: Cabin_C148 Importance: 0.000872953876376\n",
      "Feature: Cabin_D6 Importance: 0.000846926652772\n",
      "Feature: Cabin_B58 B60 Importance: 0.000838048998716\n",
      "Feature: Cabin_C92 Importance: 0.000834165421723\n",
      "Feature: Cabin_E44 Importance: 0.000808952997653\n",
      "Feature: Cabin_D10 D12 Importance: 0.000791978302752\n",
      "Feature: Cabin_C123 Importance: 0.000756665504752\n",
      "Feature: Cabin_C86 Importance: 0.000711970032862\n",
      "Feature: Cabin_C118 Importance: 0.000710855751192\n",
      "Feature: Cabin_C82 Importance: 0.000703947971775\n",
      "Feature: Cabin_C65 Importance: 0.000703324665296\n",
      "Feature: Cabin_C23 C25 C27 Importance: 0.000683639961243\n",
      "Feature: Cabin_C95 Importance: 0.000681250026318\n",
      "Feature: Cabin_C128 Importance: 0.000677286950591\n",
      "Feature: Cabin_A5 Importance: 0.000648117317882\n",
      "Feature: Cabin_A7 Importance: 0.000645869239805\n",
      "Feature: Cabin_D30 Importance: 0.000642177467697\n",
      "Feature: Cabin_C70 Importance: 0.000636685469159\n",
      "Feature: Cabin_C68 Importance: 0.000634697668606\n",
      "Feature: Cabin_A32 Importance: 0.000615771317242\n",
      "Feature: Cabin_B71 Importance: 0.000614470128284\n",
      "Feature: Cabin_C46 Importance: 0.000601785458599\n",
      "Feature: Cabin_E63 Importance: 0.000595569255603\n",
      "Feature: Cabin_E31 Importance: 0.000591333015063\n",
      "Feature: Cabin_D Importance: 0.000587190965912\n",
      "Feature: Cabin_C30 Importance: 0.00057292263615\n",
      "Feature: Cabin_C2 Importance: 0.000568052648896\n",
      "Feature: Cabin_B41 Importance: 0.000550514521752\n",
      "Feature: Cabin_A34 Importance: 0.000546057322407\n",
      "Feature: Cabin_B30 Importance: 0.000515981972461\n",
      "Feature: Cabin_A19 Importance: 0.000504350645551\n",
      "Feature: Cabin_D17 Importance: 0.000497308617073\n",
      "Feature: Cabin_E67 Importance: 0.00049581876345\n",
      "Feature: Cabin_F4 Importance: 0.000491358067871\n",
      "Feature: Cabin_D48 Importance: 0.000488854820027\n",
      "Feature: Cabin_E58 Importance: 0.000486855825813\n",
      "Feature: Cabin_A14 Importance: 0.000478273711731\n",
      "Feature: Cabin_C110 Importance: 0.000465627091245\n",
      "Feature: Cabin_B37 Importance: 0.000462673449746\n",
      "Feature: Cabin_C83 Importance: 0.000452861409401\n",
      "Feature: Cabin_C91 Importance: 0.000443700312818\n",
      "Feature: Cabin_B38 Importance: 0.000439633691681\n",
      "Feature: Cabin_B22 Importance: 0.000438803713382\n",
      "Feature: Cabin_C87 Importance: 0.00043544876211\n",
      "Feature: Cabin_E38 Importance: 0.000430412358079\n",
      "Feature: Cabin_F G73 Importance: 0.000422294415182\n",
      "Feature: Cabin_B77 Importance: 0.000413032039043\n",
      "Feature: Cabin_E46 Importance: 0.000406387878722\n",
      "Feature: Cabin_D46 Importance: 0.000405796392775\n",
      "Feature: Cabin_C78 Importance: 0.000400650671327\n",
      "Feature: Cabin_B19 Importance: 0.000370946320157\n",
      "Feature: Cabin_D50 Importance: 0.000369964281682\n",
      "Feature: Cabin_A36 Importance: 0.000335157606269\n",
      "Feature: Cabin_B102 Importance: 0.00032565718933\n",
      "Feature: Cabin_B94 Importance: 0.000284006644261\n",
      "Feature: Cabin_C125 Importance: 0.000273125815921\n",
      "Feature: Cabin_B28 Importance: 0.00027109093906\n",
      "Feature: Cabin_F E69 Importance: 0.000265234275399\n",
      "Feature: Cabin_B5 Importance: 0.000257527667489\n",
      "Feature: Cabin_E33 Importance: 0.000256615418641\n",
      "Feature: Cabin_B42 Importance: 0.000256167984876\n",
      "Feature: Cabin_F38 Importance: 0.000205114961868\n",
      "Feature: Cabin_F G63 Importance: 0.00018245623172\n",
      "Feature: Cabin_D47 Importance: 0.000179495815417\n",
      "Feature: Cabin_D20 Importance: 0.000174928005024\n",
      "Feature: Cabin_B18 Importance: 0.000169697266767\n",
      "Feature: Cabin_C50 Importance: 0.000164957575771\n",
      "Feature: Cabin_B57 B59 B63 B66 Importance: 0.000153953350469\n",
      "Feature: Cabin_C103 Importance: 0.000134885849163\n",
      "Feature: Cabin_D36 Importance: 0.000134163770316\n",
      "Feature: Cabin_C99 Importance: 0.000109823932742\n",
      "Feature: Cabin_B69 Importance: 0.000108762066164\n",
      "Feature: Cabin_E49 Importance: 0.000100824108452\n",
      "Feature: Cabin_B35 Importance: 9.24535038558e-05\n",
      "Feature: Cabin_D15 Importance: 9.1828859895e-05\n",
      "Feature: Cabin_C7 Importance: 8.92374343019e-05\n",
      "Feature: Cabin_D7 Importance: 8.53086012849e-05\n",
      "Feature: Cabin_C62 C64 Importance: 8.28901310972e-05\n",
      "Feature: Cabin_E68 Importance: 8.1612958199e-05\n",
      "Feature: Cabin_B73 Importance: 8.05266532743e-05\n",
      "Feature: Cabin_C45 Importance: 7.49720502859e-05\n",
      "Feature: Cabin_C101 Importance: 7.37723405974e-05\n",
      "Feature: Cabin_D28 Importance: 7.31757823672e-05\n",
      "Feature: Cabin_B39 Importance: 6.68983548074e-05\n",
      "Feature: Cabin_D11 Importance: 6.65913195492e-05\n",
      "Feature: Cabin_D37 Importance: 6.57330001549e-05\n",
      "Feature: Cabin_E40 Importance: 6.51175748068e-05\n",
      "Feature: Cabin_E34 Importance: 6.48479575204e-05\n",
      "Feature: Cabin_B3 Importance: 6.27248850292e-05\n",
      "Feature: Cabin_E36 Importance: 5.83891064202e-05\n",
      "Feature: Cabin_C32 Importance: 5.72476220826e-05\n",
      "Feature: Cabin_D21 Importance: 5.50262163953e-05\n",
      "Feature: Cabin_A16 Importance: 5.01222670898e-05\n",
      "Feature: Cabin_C90 Importance: 4.93393734814e-05\n",
      "Feature: Cabin_B79 Importance: 4.78811077045e-05\n",
      "Feature: Cabin_C54 Importance: 3.80775994795e-05\n",
      "Feature: Cabin_C85 Importance: 1.39760176418e-05\n",
      "Feature: Cabin_E12 Importance: 0.0\n",
      "Feature: Cabin_A24 Importance: 0.0\n",
      "Feature: Cabin_B4 Importance: 0.0\n",
      "Feature: Cabin_D9 Importance: 0.0\n",
      "Feature: Cabin_T Importance: 0.0\n",
      "Feature: Cabin_B78 Importance: 0.0\n",
      "Feature: Cabin_B80 Importance: 0.0\n"
     ]
    }
   ],
   "source": [
    "# list the importances of a model, here ive used the random forest model\n",
    "importances = RF_model.feature_importances_\n",
    "#importances = gradBoost_model.feature_importances_\n",
    "idxs = np.argsort(importances)[::-1]\n",
    "for i in range(len(idxs)):\n",
    "    #if i<10:\n",
    "    print('Feature: '+str(features_train[idxs[i]]), 'Importance: '+str(importances[idxs[i]]))"
   ]
  },
  {
   "cell_type": "markdown",
   "metadata": {
    "deletable": true,
    "editable": true
   },
   "source": [
    "## Build Lift Report\n",
    "Use Alex's function to create a table with all the important metrics used for judging a model."
   ]
  },
  {
   "cell_type": "code",
   "execution_count": 14,
   "metadata": {
    "collapsed": true,
    "deletable": true,
    "editable": true
   },
   "outputs": [],
   "source": [
    "# alex lift report function\n",
    "\n",
    "def lift_report(df, septr='|', jitter_on=False, nBins=10):\n",
    "\n",
    "    '''\n",
    "    Function produces a lift report from a scores and target dataframe\n",
    "    Arguments\n",
    "        df    - this is a dataframe with two columns, 'actual' which gives the actual class (1 or 0)\n",
    "                and 'scores' which gives the model scores for each record\n",
    "        septr - separator of input ?\n",
    "        jitter_on - this function settle ties in the ranking using a random perturbation\n",
    "        nBins - binning for table, e.g nBins=10 is deciles and nBins=100 is percentiles\n",
    "        \n",
    "    Output fields\n",
    "        Decile Min   - For each bin the minimum model score\n",
    "        Decile Max   - For each bin the maximum model score\n",
    "        Trues        - If all the candidates in the bin were assigned to positive class (target=1), \n",
    "                       this many true values within this bin\n",
    "        Falses       - Same as above but for false\n",
    "        Total        - Total candidates in the bin\n",
    "        Odds         -\n",
    "        Trues Proportion - \n",
    "        Cumulative Trues Proportion - \n",
    "        Gain         - The percentage of total positive class contained within this bin\n",
    "        Cumulative Gains - The percetnatge of total positive class contained within this and the previous bins\n",
    "        Lift         - Lift of the previous bins inclusive of this bin (this is really cumulative lift)\n",
    "        FPR          - The percentage of total negative class contained within this and the previous bins\n",
    "        K-S          - K-S statistic\n",
    "    '''\n",
    "    \n",
    "    ## Import necessary packages\n",
    "    import sys\n",
    "    import pandas as pd\n",
    "    import numpy as np\n",
    "    import pandas.core.algorithms as algos\n",
    "    from pandas import Series\n",
    "    from sklearn.metrics import roc_auc_score\n",
    "\n",
    "\n",
    "    ## Import data\n",
    "    #df = pd.read_csv(filename, sep=septr)\n",
    "    \n",
    "    ## Checking requirements\n",
    "    if ('actual' not in df.columns) & ('score' not in df.columns):\n",
    "        msg = 'Input file should contain two columns named as \"actual\" and \\\n",
    "        \"score\"; instead got {}'.format(str(df.columns))\n",
    "        sys.exit(msg)\n",
    "    else:\n",
    "        pass\n",
    "\n",
    "    if (len(df.actual.unique())!=2)|((df.actual.min()!=0)&(df.actual.max()!=1)):\n",
    "        msg = 'This function is only used for binary classifiers with 0/1 \\\n",
    "        values; instead got {}'.format(sorted(df.actual.unique()))\n",
    "        sys.exit(msg)\n",
    "    else:\n",
    "        pass\n",
    "\n",
    "\n",
    "    if (df.score.min() < 0) | (df.score.max() >1):\n",
    "        msg = 'Scores should only have values [0,1]; '\n",
    "        'instead we have [{},{}]'.format(df.score.min(), df.score.max())\n",
    "        sys.exit(msg)\n",
    "    else:\n",
    "        pass\n",
    "    \n",
    "    ## Obtain deciles of scores.\n",
    "    # Sometimes binning will cause errors;\n",
    "    # hence we can add small perturbation to scores\n",
    "\n",
    "    # Relevant function\n",
    "    def jitter(a_series, noise_reduction=1000000):\n",
    "            return (np.random.random(len(a_series))*a_series.std()/\n",
    "                    noise_reduction)-(a_series.std()/(2*noise_reduction))\n",
    "\n",
    "    if jitter_on == True:\n",
    "        df['decile'] = pd.qcut(df.score + jitter(df.score), nBins)\n",
    "    else:\n",
    "        df['decile'] = pd.qcut(df.score, nBins)\n",
    "\n",
    "    # Create groupby df object for further processing\n",
    "    group_temp = df.groupby('decile', as_index = False)\n",
    "\n",
    "    # Shape output df frame\n",
    "    df_grp = pd.DataFrame(group_temp.min().score)\n",
    "    df_grp['Decile Max'] = group_temp.max().score\n",
    "    df_grp.columns=['Decile Min', 'Decile Max']\n",
    "\n",
    "    # Within propensity deciles collect\n",
    "    # counts of Trues, Falses and totals\n",
    "    df_grp['Trues'] =group_temp.agg({'actual': lambda x: sum(abs(x))}).actual\n",
    "    df_grp['Falses'] = group_temp.agg({'actual':\n",
    "        lambda x: sum(abs(1-x))}).actual\n",
    "    df_grp['Total'] = group_temp.agg({'actual': lambda x: len(x)}).actual\n",
    "\n",
    "    del group_temp\n",
    "    \n",
    "    # Sort ahead of cumulative operations\n",
    "    df_grp = (df_grp.sort_index(level = ['Decile Min', 'Decile Max'],\n",
    "        ascending=False)).reset_index(drop = True)\n",
    "\n",
    "    # Calculate Odds (#non-Trues/#Trues)\n",
    "    df_grp['Odds'] = (df_grp.Falses / df_grp.Trues)\n",
    "\n",
    "    # Calculate proportion of Trues within each decile\n",
    "    df_grp['Trues Proportion'] = (df_grp.Trues/df_grp.Total)\n",
    "\n",
    "    # Calculate running average of above proportion\n",
    "    df_grp['Cumulative Trues Proportion'] = ((df_grp.Trues.cumsum() /\n",
    "        df_grp.Total.cumsum()))\n",
    "\n",
    "    # Calculate proportion of within-decile Trues to all Trues for each decile\n",
    "    df_grp['Gain'] = (df_grp.Trues/df_grp.Trues.sum())\n",
    "    # Calculate gains as cumulative sum of above variable\n",
    "    df_grp['Cumulative Gains']=(df_grp['Gain'].cumsum())\n",
    "    # Calculate Lift\n",
    "    df_grp['Lift']=df_grp['Cumulative Gains']/((df_grp.index.astype(float)+1)/nBins)\n",
    "    # Required for calculating K-S score\n",
    "    df_grp['FPR']=((df_grp.Falses/\n",
    "        df_grp.Falses.sum()).cumsum())\n",
    "\n",
    "    \n",
    "    # Calculate K-S score as difference between cumulative Trues vs\n",
    "    # cumulative Falses percent\n",
    "    df_grp['K-S'] = abs(df_grp['Cumulative Gains'] - df_grp['FPR'])\n",
    "\n",
    "\n",
    "    # Format results nicely\n",
    "    df_grp['Decile Min'] = df_grp['Decile Min'].apply(lambda x: round(x,8))\n",
    "    df_grp['Decile Max'] = df_grp['Decile Max'].apply(lambda x: round(x,8))\n",
    "    df_grp['Odds'] = df_grp['Odds'].apply(lambda x: round(x,2))\n",
    "    df_grp['Trues Proportion'] = df_grp['Trues Proportion'].apply(lambda x: round(x,2))\n",
    "    df_grp['Cumulative Trues Proportion'] = \\\n",
    "        df_grp['Cumulative Trues Proportion'].apply(lambda x: round(x,2))\n",
    "    df_grp['Lift'] = df_grp['Lift'].apply(lambda x: round(x,8))\n",
    "    df_grp['Cumulative Gains'] = df_grp['Cumulative Gains'].apply(lambda x: round(x,8))\n",
    "    df_grp['FPR'] = df_grp['FPR'].apply(lambda x:\n",
    "        round(x,8))\n",
    "    df_grp['K-S'] = df_grp['K-S'].apply(lambda x: round(x,8))\n",
    "    df_grp_basic = df_grp[['Decile Min', 'Decile Max', 'Lift', 'Cumulative Gains']]\n",
    "\n",
    "    \n",
    "    ## Calculate performance statistics\n",
    "    # Get AUC score from sklearn\n",
    "    auc_score = roc_auc_score(df.actual, df.score)\n",
    "    # Calculate Gini score as 2*AUC-1\n",
    "    gini_score = 2*auc_score - 1\n",
    "    # Get maximum K-S separation\n",
    "    ks_score = df_grp['K-S'].max()\n",
    "    # Combine\n",
    "    scores = {'AUC score': auc_score, 'Gini score': gini_score,\n",
    "        'K-S Score' : ks_score}\n",
    "\n",
    "    return df, df_grp, df_grp_basic, scores\n"
   ]
  },
  {
   "cell_type": "markdown",
   "metadata": {
    "deletable": true,
    "editable": true
   },
   "source": [
    "## Lift Report Data Adjustment\n",
    "This cell just selects the actual records class and the score produced by the model. This is the output required by alex's function."
   ]
  },
  {
   "cell_type": "code",
   "execution_count": 15,
   "metadata": {
    "collapsed": false,
    "deletable": true,
    "editable": true
   },
   "outputs": [
    {
     "name": "stderr",
     "output_type": "stream",
     "text": [
      "/Library/Frameworks/Python.framework/Versions/3.6/lib/python3.6/site-packages/ipykernel/__main__.py:1: SettingWithCopyWarning: \n",
      "A value is trying to be set on a copy of a slice from a DataFrame.\n",
      "Try using .loc[row_indexer,col_indexer] = value instead\n",
      "\n",
      "See the caveats in the documentation: http://pandas.pydata.org/pandas-docs/stable/indexing.html#indexing-view-versus-copy\n",
      "  if __name__ == '__main__':\n"
     ]
    },
    {
     "data": {
      "text/html": [
       "<div>\n",
       "<table border=\"1\" class=\"dataframe\">\n",
       "  <thead>\n",
       "    <tr style=\"text-align: right;\">\n",
       "      <th></th>\n",
       "      <th>actual</th>\n",
       "      <th>score</th>\n",
       "    </tr>\n",
       "  </thead>\n",
       "  <tbody>\n",
       "    <tr>\n",
       "      <th>15</th>\n",
       "      <td>1</td>\n",
       "      <td>0.920000</td>\n",
       "    </tr>\n",
       "    <tr>\n",
       "      <th>194</th>\n",
       "      <td>1</td>\n",
       "      <td>0.755000</td>\n",
       "    </tr>\n",
       "    <tr>\n",
       "      <th>529</th>\n",
       "      <td>0</td>\n",
       "      <td>0.213071</td>\n",
       "    </tr>\n",
       "    <tr>\n",
       "      <th>214</th>\n",
       "      <td>0</td>\n",
       "      <td>0.153765</td>\n",
       "    </tr>\n",
       "    <tr>\n",
       "      <th>837</th>\n",
       "      <td>0</td>\n",
       "      <td>0.000000</td>\n",
       "    </tr>\n",
       "  </tbody>\n",
       "</table>\n",
       "</div>"
      ],
      "text/plain": [
       "     actual     score\n",
       "15        1  0.920000\n",
       "194       1  0.755000\n",
       "529       0  0.213071\n",
       "214       0  0.153765\n",
       "837       0  0.000000"
      ]
     },
     "execution_count": 15,
     "metadata": {},
     "output_type": "execute_result"
    }
   ],
   "source": [
    "df_test['score'] = Y_scores_RF.tolist()\n",
    "df_liftReport = df_test.loc[:,('Survived', 'score')]\n",
    "df_liftReport.rename(columns={'Survived':'actual'}, inplace=True)\n",
    "df_liftReport.head()"
   ]
  },
  {
   "cell_type": "markdown",
   "metadata": {
    "deletable": true,
    "editable": true
   },
   "source": [
    "## Produce Report\n",
    "Produce the lift report in table form. numb_bins is the number of bins you want to aggregate the scores into. For example 10 bins in deciles."
   ]
  },
  {
   "cell_type": "code",
   "execution_count": 16,
   "metadata": {
    "collapsed": false,
    "deletable": true,
    "editable": true
   },
   "outputs": [
    {
     "name": "stdout",
     "output_type": "stream",
     "text": [
      "outside\n",
      "1\n",
      "2\n",
      "3\n",
      "4\n",
      "5\n",
      "6\n"
     ]
    },
    {
     "data": {
      "text/html": [
       "<div>\n",
       "<table border=\"1\" class=\"dataframe\">\n",
       "  <thead>\n",
       "    <tr style=\"text-align: right;\">\n",
       "      <th></th>\n",
       "      <th>Decile Min</th>\n",
       "      <th>Decile Max</th>\n",
       "      <th>Trues</th>\n",
       "      <th>Falses</th>\n",
       "      <th>Total</th>\n",
       "      <th>Odds</th>\n",
       "      <th>Trues Proportion</th>\n",
       "      <th>Cumulative Trues Proportion</th>\n",
       "      <th>Gain</th>\n",
       "      <th>Cumulative Gains</th>\n",
       "      <th>Lift</th>\n",
       "      <th>FPR</th>\n",
       "      <th>K-S</th>\n",
       "    </tr>\n",
       "  </thead>\n",
       "  <tbody>\n",
       "    <tr>\n",
       "      <th>0</th>\n",
       "      <td>0.995</td>\n",
       "      <td>0.995</td>\n",
       "      <td>1</td>\n",
       "      <td>0</td>\n",
       "      <td>1</td>\n",
       "      <td>0.000000</td>\n",
       "      <td>1.0</td>\n",
       "      <td>1.00</td>\n",
       "      <td>0.030303</td>\n",
       "      <td>0.030303</td>\n",
       "      <td>3.030303</td>\n",
       "      <td>0.000000</td>\n",
       "      <td>0.030303</td>\n",
       "    </tr>\n",
       "    <tr>\n",
       "      <th>1</th>\n",
       "      <td>0.995</td>\n",
       "      <td>0.995</td>\n",
       "      <td>1</td>\n",
       "      <td>0</td>\n",
       "      <td>1</td>\n",
       "      <td>0.000000</td>\n",
       "      <td>1.0</td>\n",
       "      <td>1.00</td>\n",
       "      <td>0.030303</td>\n",
       "      <td>0.060606</td>\n",
       "      <td>3.030303</td>\n",
       "      <td>0.000000</td>\n",
       "      <td>0.060606</td>\n",
       "    </tr>\n",
       "    <tr>\n",
       "      <th>2</th>\n",
       "      <td>0.985</td>\n",
       "      <td>0.985</td>\n",
       "      <td>1</td>\n",
       "      <td>0</td>\n",
       "      <td>1</td>\n",
       "      <td>0.000000</td>\n",
       "      <td>1.0</td>\n",
       "      <td>1.00</td>\n",
       "      <td>0.030303</td>\n",
       "      <td>0.090909</td>\n",
       "      <td>3.030303</td>\n",
       "      <td>0.000000</td>\n",
       "      <td>0.090909</td>\n",
       "    </tr>\n",
       "    <tr>\n",
       "      <th>3</th>\n",
       "      <td>0.975</td>\n",
       "      <td>0.975</td>\n",
       "      <td>0</td>\n",
       "      <td>1</td>\n",
       "      <td>1</td>\n",
       "      <td>inf</td>\n",
       "      <td>0.0</td>\n",
       "      <td>0.75</td>\n",
       "      <td>0.000000</td>\n",
       "      <td>0.090909</td>\n",
       "      <td>2.272727</td>\n",
       "      <td>0.017544</td>\n",
       "      <td>0.073365</td>\n",
       "    </tr>\n",
       "    <tr>\n",
       "      <th>4</th>\n",
       "      <td>0.965</td>\n",
       "      <td>0.965</td>\n",
       "      <td>1</td>\n",
       "      <td>0</td>\n",
       "      <td>1</td>\n",
       "      <td>0.000000</td>\n",
       "      <td>1.0</td>\n",
       "      <td>0.80</td>\n",
       "      <td>0.030303</td>\n",
       "      <td>0.121212</td>\n",
       "      <td>2.424242</td>\n",
       "      <td>0.017544</td>\n",
       "      <td>0.103668</td>\n",
       "    </tr>\n",
       "    <tr>\n",
       "      <th>5</th>\n",
       "      <td>0.955</td>\n",
       "      <td>0.955</td>\n",
       "      <td>1</td>\n",
       "      <td>0</td>\n",
       "      <td>1</td>\n",
       "      <td>0.000000</td>\n",
       "      <td>1.0</td>\n",
       "      <td>0.83</td>\n",
       "      <td>0.030303</td>\n",
       "      <td>0.151515</td>\n",
       "      <td>2.525253</td>\n",
       "      <td>0.017544</td>\n",
       "      <td>0.133971</td>\n",
       "    </tr>\n",
       "    <tr>\n",
       "      <th>6</th>\n",
       "      <td>0.950</td>\n",
       "      <td>0.950</td>\n",
       "      <td>1</td>\n",
       "      <td>0</td>\n",
       "      <td>1</td>\n",
       "      <td>0.000000</td>\n",
       "      <td>1.0</td>\n",
       "      <td>0.86</td>\n",
       "      <td>0.030303</td>\n",
       "      <td>0.181818</td>\n",
       "      <td>2.597403</td>\n",
       "      <td>0.017544</td>\n",
       "      <td>0.164274</td>\n",
       "    </tr>\n",
       "    <tr>\n",
       "      <th>7</th>\n",
       "      <td>0.940</td>\n",
       "      <td>0.940</td>\n",
       "      <td>1</td>\n",
       "      <td>0</td>\n",
       "      <td>1</td>\n",
       "      <td>0.000000</td>\n",
       "      <td>1.0</td>\n",
       "      <td>0.88</td>\n",
       "      <td>0.030303</td>\n",
       "      <td>0.212121</td>\n",
       "      <td>2.651515</td>\n",
       "      <td>0.017544</td>\n",
       "      <td>0.194577</td>\n",
       "    </tr>\n",
       "    <tr>\n",
       "      <th>8</th>\n",
       "      <td>0.925</td>\n",
       "      <td>0.925</td>\n",
       "      <td>1</td>\n",
       "      <td>0</td>\n",
       "      <td>1</td>\n",
       "      <td>0.000000</td>\n",
       "      <td>1.0</td>\n",
       "      <td>0.89</td>\n",
       "      <td>0.030303</td>\n",
       "      <td>0.242424</td>\n",
       "      <td>2.693603</td>\n",
       "      <td>0.017544</td>\n",
       "      <td>0.224880</td>\n",
       "    </tr>\n",
       "    <tr>\n",
       "      <th>9</th>\n",
       "      <td>NaN</td>\n",
       "      <td>NaN</td>\n",
       "      <td>0</td>\n",
       "      <td>0</td>\n",
       "      <td>0</td>\n",
       "      <td>NaN</td>\n",
       "      <td>NaN</td>\n",
       "      <td>0.89</td>\n",
       "      <td>0.000000</td>\n",
       "      <td>0.242424</td>\n",
       "      <td>2.424242</td>\n",
       "      <td>0.017544</td>\n",
       "      <td>0.224880</td>\n",
       "    </tr>\n",
       "  </tbody>\n",
       "</table>\n",
       "</div>"
      ],
      "text/plain": [
       "   Decile Min  Decile Max  Trues  Falses  Total      Odds  Trues Proportion  \\\n",
       "0       0.995       0.995      1       0      1  0.000000               1.0   \n",
       "1       0.995       0.995      1       0      1  0.000000               1.0   \n",
       "2       0.985       0.985      1       0      1  0.000000               1.0   \n",
       "3       0.975       0.975      0       1      1       inf               0.0   \n",
       "4       0.965       0.965      1       0      1  0.000000               1.0   \n",
       "5       0.955       0.955      1       0      1  0.000000               1.0   \n",
       "6       0.950       0.950      1       0      1  0.000000               1.0   \n",
       "7       0.940       0.940      1       0      1  0.000000               1.0   \n",
       "8       0.925       0.925      1       0      1  0.000000               1.0   \n",
       "9         NaN         NaN      0       0      0       NaN               NaN   \n",
       "\n",
       "   Cumulative Trues Proportion      Gain  Cumulative Gains      Lift  \\\n",
       "0                         1.00  0.030303          0.030303  3.030303   \n",
       "1                         1.00  0.030303          0.060606  3.030303   \n",
       "2                         1.00  0.030303          0.090909  3.030303   \n",
       "3                         0.75  0.000000          0.090909  2.272727   \n",
       "4                         0.80  0.030303          0.121212  2.424242   \n",
       "5                         0.83  0.030303          0.151515  2.525253   \n",
       "6                         0.86  0.030303          0.181818  2.597403   \n",
       "7                         0.88  0.030303          0.212121  2.651515   \n",
       "8                         0.89  0.030303          0.242424  2.693603   \n",
       "9                         0.89  0.000000          0.242424  2.424242   \n",
       "\n",
       "        FPR       K-S  \n",
       "0  0.000000  0.030303  \n",
       "1  0.000000  0.060606  \n",
       "2  0.000000  0.090909  \n",
       "3  0.017544  0.073365  \n",
       "4  0.017544  0.103668  \n",
       "5  0.017544  0.133971  \n",
       "6  0.017544  0.164274  \n",
       "7  0.017544  0.194577  \n",
       "8  0.017544  0.224880  \n",
       "9  0.017544  0.224880  "
      ]
     },
     "execution_count": 16,
     "metadata": {},
     "output_type": "execute_result"
    }
   ],
   "source": [
    "numb_bins = 100\n",
    "df_full, df_binned, df_binned_basic, scores = lift_report(df_liftReport, septr=',', jitter_on=True, nBins=numb_bins)\n",
    "df_binned.head(10)"
   ]
  },
  {
   "cell_type": "markdown",
   "metadata": {
    "deletable": true,
    "editable": true
   },
   "source": [
    "## Gains Chart\n",
    "Note: The more bins that are used in the lift_report function the better the resolution of the plots."
   ]
  },
  {
   "cell_type": "code",
   "execution_count": 17,
   "metadata": {
    "collapsed": false,
    "deletable": true,
    "editable": true
   },
   "outputs": [
    {
     "data": {
      "image/png": "[encoded data removed]",
      "text/plain": [
       "<matplotlib.figure.Figure at 0x10a607860>"
      ]
     },
     "metadata": {},
     "output_type": "display_data"
    }
   ],
   "source": [
    "# Standard sklearn Gains chart\n",
    "import matplotlib.pyplot as plt\n",
    "import numpy as np\n",
    "%matplotlib inline\n",
    "plt.figure(figsize=(12,7))\n",
    "plt.plot(df_binned.index+1, df_binned['Cumulative Gains'], label='Trained Model')\n",
    "plt.plot([0, numb_bins], [0, 1], 'k--', label='Random Selection')\n",
    "plt.grid()\n",
    "plt.xticks(np.arange(0, numb_bins*1.1, numb_bins/10))\n",
    "plt.yticks(np.arange(0, 1.1, 0.1))\n",
    "plt.xlim([0.0, numb_bins])\n",
    "plt.ylim([0.0, 1.05])\n",
    "plt.xlabel('Percentile', fontsize=20)\n",
    "plt.ylabel('Gains', fontsize=20)\n",
    "plt.legend(loc=\"lower right\", fontsize=18)\n",
    "# if you want to print out to file below\n",
    "#plt.savefig(\"GainsChart_latency3_devsample.pdf\")\n",
    "plt.show()\n",
    "plt.close()"
   ]
  },
  {
   "cell_type": "markdown",
   "metadata": {
    "deletable": true,
    "editable": true
   },
   "source": [
    "## Lift Chart\n",
    "Note: The more bins that are used in the lift_report function the better the resolution of the plots."
   ]
  },
  {
   "cell_type": "code",
   "execution_count": 18,
   "metadata": {
    "collapsed": false,
    "deletable": true,
    "editable": true
   },
   "outputs": [
    {
     "data": {
      "image/png": "[encoded data removed]",
      "text/plain": [
       "<matplotlib.figure.Figure at 0x10a5e1cc0>"
      ]
     },
     "metadata": {},
     "output_type": "display_data"
    }
   ],
   "source": [
    "# Standard Lift Chart\n",
    "plt.figure(figsize=(12,7))\n",
    "plt.plot(df_binned.index+1, df_binned['Lift'], label='Trained Model')\n",
    "plt.xticks(np.arange(0, numb_bins*1.1, numb_bins/10))\n",
    "plt.yticks(np.arange(0.8, 2.8, 0.2))\n",
    "plt.xlim([0.0, numb_bins])\n",
    "plt.ylim([0.8, 2.8])\n",
    "plt.plot([0, numb_bins], [1,1], 'k--', label='Random Selection')\n",
    "plt.grid()\n",
    "plt.xlabel('Percentile', fontsize=20)\n",
    "plt.ylabel('Lift', fontsize=20)\n",
    "plt.legend(loc=\"upper right\", fontsize=18)\n",
    "#plt.savefig(\"LiftChart_latency3_devsample.pdf\")\n",
    "plt.show()\n",
    "plt.close()"
   ]
  },
  {
   "cell_type": "markdown",
   "metadata": {
    "deletable": true,
    "editable": true
   },
   "source": [
    "## ROC Curve\n",
    "Note: The more bins that are used in the lift_report function the better the resolution of the plots."
   ]
  },
  {
   "cell_type": "code",
   "execution_count": 19,
   "metadata": {
    "collapsed": false,
    "deletable": true,
    "editable": true
   },
   "outputs": [
    {
     "data": {
      "image/png": "[encoded data removed]",
      "text/plain": [
       "<matplotlib.figure.Figure at 0x10aa5b588>"
      ]
     },
     "metadata": {},
     "output_type": "display_data"
    }
   ],
   "source": [
    "# Standard sklearn ROC curve\n",
    "roc_auc=round(scores['AUC score'],3)\n",
    "plt.figure(figsize=(12,7))\n",
    "plt.plot(df_binned['FPR'], df_binned['Cumulative Gains'], label='Trained Model - ROC AUC: '+str(roc_auc))\n",
    "plt.plot([0, 1], [0, 1], 'k--', label='Random Selection')\n",
    "plt.grid()\n",
    "plt.xlim([0.0, 1])\n",
    "plt.ylim([0.0, 1.05])\n",
    "plt.xticks(np.arange(0, 1.1, 0.1))\n",
    "plt.yticks(np.arange(0, 1.1, 0.1))\n",
    "plt.xlabel('False Positive Rate', fontsize=20)\n",
    "plt.ylabel('True Positive Rate', fontsize=20)\n",
    "plt.legend(loc=\"lower right\", fontsize=18)\n",
    "#plt.savefig(\"ROC_Curve_latency3_devsample.pdf\")\n",
    "plt.show()\n",
    "plt.close()"
   ]
  },
  {
   "cell_type": "markdown",
   "metadata": {
    "deletable": true,
    "editable": true
   },
   "source": [
    "## K-S Chart\n",
    "Not used this plot much yet but some people may find its useful\n",
    "Note: The more bins that are used in the lift_report function the better the resolution of the plots."
   ]
  },
  {
   "cell_type": "code",
   "execution_count": 20,
   "metadata": {
    "collapsed": false,
    "deletable": true,
    "editable": true
   },
   "outputs": [
    {
     "data": {
      "image/png": "[encoded data removed]",
      "text/plain": [
       "<matplotlib.figure.Figure at 0x10aa376d8>"
      ]
     },
     "metadata": {},
     "output_type": "display_data"
    }
   ],
   "source": [
    "# K-S Chart\n",
    "# not ever used this but it may be required\n",
    "plt.figure(figsize=(12,7))\n",
    "plt.plot(df_binned['Decile Min'], 1-df_binned['Cumulative Gains'], label='target')\n",
    "plt.plot(df_binned['Decile Min'], 1-df_binned['FPR'], label='non target')\n",
    "plt.plot(df_binned['Decile Min'], df_binned['K-S'], label='K-S')\n",
    "plt.grid()\n",
    "#plt.xlim([0.0, 1])\n",
    "#plt.ylim([0.0, 1.05])\n",
    "#plt.xticks(np.arange(0, 1.1, 0.1))\n",
    "#plt.yticks(np.arange(0, 1.1, 0.1))\n",
    "plt.xlabel('1-Scores', fontsize=20)\n",
    "plt.ylabel('Recall', fontsize=20)\n",
    "plt.legend(loc=\"upper left\", fontsize=18)\n",
    "#plt.savefig(\"KS_Curve_latency3_devsample.pdf\")\n",
    "plt.show()\n",
    "plt.close()\n",
    "#df_binned.head(10)"
   ]
  },
  {
   "cell_type": "markdown",
   "metadata": {
    "deletable": true,
    "editable": true
   },
   "source": [
    "## Input Scoring Set\n",
    "Often you are given a seperate dataset that you need to score. This second part ingests and then scores"
   ]
  },
  {
   "cell_type": "code",
   "execution_count": 21,
   "metadata": {
    "collapsed": false,
    "deletable": true,
    "editable": true
   },
   "outputs": [],
   "source": [
    "filename2 = '~/Documents/data/train.csv'\n",
    "df_score = pd.read_csv(filename2, sep=',')\n",
    "\n",
    "#print(df_score.head())"
   ]
  },
  {
   "cell_type": "markdown",
   "metadata": {
    "deletable": true,
    "editable": true
   },
   "source": [
    "## Variable Definition (Scoring)"
   ]
  },
  {
   "cell_type": "code",
   "execution_count": 16,
   "metadata": {
    "collapsed": true,
    "deletable": true,
    "editable": true
   },
   "outputs": [],
   "source": [
    "# here we build the config of the file\n",
    "\n",
    "#identifier2 = ['field1'] # identifier such as customer id\n",
    "#target2 = ['field2'] # target field\n",
    "#exclude2 = [] # fields to exclude \n",
    "#categorical2 = ['field5', 'field9','field10','field14'] # these categorical fields get set to flag"
   ]
  },
  {
   "cell_type": "markdown",
   "metadata": {},
   "source": [
    "## Missing Values (Scoring)"
   ]
  },
  {
   "cell_type": "code",
   "execution_count": 22,
   "metadata": {
    "collapsed": false,
    "deletable": true,
    "editable": true
   },
   "outputs": [],
   "source": [
    "# This tile fills in missing values\n",
    "\n",
    "for i in range(0, len(allFields)):\n",
    "    if allFields[i] in numeric:\n",
    "        df_score.loc[:,allFields[i]].fillna(df_score[allFields[i]].mean(), inplace=True)\n",
    "    elif allFields[i] in categorical:\n",
    "        df_score.loc[:,allFields[i]].fillna(df_input[allFields[i]].mode().iloc[0], inplace=True)\n",
    "    elif allFields[i] in datetime:\n",
    "        df_score[allFields[i]] = df_score[allFields[i]].replace({'1111-11-11': '1900-01-01'})\n",
    "    #print(i, df_train[allFields[i]].isnull().sum())\n"
   ]
  },
  {
   "cell_type": "markdown",
   "metadata": {
    "deletable": true,
    "editable": true
   },
   "source": [
    "## Categorical Features (Scoring)"
   ]
  },
  {
   "cell_type": "code",
   "execution_count": 23,
   "metadata": {
    "collapsed": false,
    "deletable": true,
    "editable": true
   },
   "outputs": [],
   "source": [
    "# turns categorical variables into numerical (set to flag)\n",
    "for i in range(0, len(categorical)):\n",
    "    dummy_cat = pd.get_dummies(df_score[categorical[i]], prefix=categorical[i])\n",
    "    df_score = df_score.join(dummy_cat)\n",
    "\n",
    "#df_score.head(5)"
   ]
  },
  {
   "cell_type": "markdown",
   "metadata": {
    "deletable": true,
    "editable": true
   },
   "source": [
    "## Different Features\n",
    "Ive found sometimes preprocessing means that there is a different set of features in the two data samples. Here I can find features that are in the scoring sample and not the model building sample and remove them."
   ]
  },
  {
   "cell_type": "code",
   "execution_count": 24,
   "metadata": {
    "collapsed": false,
    "deletable": true,
    "editable": true
   },
   "outputs": [],
   "source": [
    "trainList = list(df_train.columns.values)\n",
    "scoreList = list(df_score.columns.values)\n",
    "removeFeatures = [a for a in trainList+scoreList if (a not in trainList) or (a not in scoreList)]"
   ]
  },
  {
   "cell_type": "markdown",
   "metadata": {
    "deletable": true,
    "editable": true
   },
   "source": [
    "## Drop Fields (Scoring)"
   ]
  },
  {
   "cell_type": "code",
   "execution_count": 25,
   "metadata": {
    "collapsed": false,
    "deletable": true,
    "editable": true
   },
   "outputs": [],
   "source": [
    "# remove all the fields not required\n",
    "to_drop2 = exclude + categorical + identifier+target+removeFeatures\n",
    "independent_scoring = df_score.drop(to_drop2, axis=1)\n",
    "X_score = np.array(independent_scoring)\n",
    "X_features = independent_scoring.columns.values"
   ]
  },
  {
   "cell_type": "markdown",
   "metadata": {
    "deletable": true,
    "editable": true
   },
   "source": [
    "## Score Scoring Data"
   ]
  },
  {
   "cell_type": "code",
   "execution_count": 26,
   "metadata": {
    "collapsed": false,
    "deletable": true,
    "editable": true
   },
   "outputs": [],
   "source": [
    "Y_scores_gradBoost = gradBoost_model.predict_proba(X_score)[:, 1]"
   ]
  },
  {
   "cell_type": "markdown",
   "metadata": {
    "deletable": true,
    "editable": true
   },
   "source": [
    "## Append to Scoring Dataset"
   ]
  },
  {
   "cell_type": "code",
   "execution_count": 28,
   "metadata": {
    "collapsed": false,
    "deletable": true,
    "editable": true
   },
   "outputs": [
    {
     "data": {
      "text/html": [
       "<div>\n",
       "<table border=\"1\" class=\"dataframe\">\n",
       "  <thead>\n",
       "    <tr style=\"text-align: right;\">\n",
       "      <th></th>\n",
       "      <th>PassengerId</th>\n",
       "      <th>Survived</th>\n",
       "      <th>Pclass</th>\n",
       "      <th>Name</th>\n",
       "      <th>Sex</th>\n",
       "      <th>Age</th>\n",
       "      <th>SibSp</th>\n",
       "      <th>Parch</th>\n",
       "      <th>Ticket</th>\n",
       "      <th>Fare</th>\n",
       "      <th>...</th>\n",
       "      <th>Cabin_F2</th>\n",
       "      <th>Cabin_F33</th>\n",
       "      <th>Cabin_F38</th>\n",
       "      <th>Cabin_F4</th>\n",
       "      <th>Cabin_G6</th>\n",
       "      <th>Cabin_T</th>\n",
       "      <th>Embarked_C</th>\n",
       "      <th>Embarked_Q</th>\n",
       "      <th>Embarked_S</th>\n",
       "      <th>scores</th>\n",
       "    </tr>\n",
       "  </thead>\n",
       "  <tbody>\n",
       "    <tr>\n",
       "      <th>0</th>\n",
       "      <td>1</td>\n",
       "      <td>0</td>\n",
       "      <td>3</td>\n",
       "      <td>Braund, Mr. Owen Harris</td>\n",
       "      <td>male</td>\n",
       "      <td>22.0</td>\n",
       "      <td>1</td>\n",
       "      <td>0</td>\n",
       "      <td>A/5 21171</td>\n",
       "      <td>7.2500</td>\n",
       "      <td>...</td>\n",
       "      <td>0</td>\n",
       "      <td>0</td>\n",
       "      <td>0</td>\n",
       "      <td>0</td>\n",
       "      <td>0</td>\n",
       "      <td>0</td>\n",
       "      <td>0</td>\n",
       "      <td>0</td>\n",
       "      <td>1</td>\n",
       "      <td>0.059097</td>\n",
       "    </tr>\n",
       "    <tr>\n",
       "      <th>1</th>\n",
       "      <td>2</td>\n",
       "      <td>1</td>\n",
       "      <td>1</td>\n",
       "      <td>Cumings, Mrs. John Bradley (Florence Briggs Th...</td>\n",
       "      <td>female</td>\n",
       "      <td>38.0</td>\n",
       "      <td>1</td>\n",
       "      <td>0</td>\n",
       "      <td>PC 17599</td>\n",
       "      <td>71.2833</td>\n",
       "      <td>...</td>\n",
       "      <td>0</td>\n",
       "      <td>0</td>\n",
       "      <td>0</td>\n",
       "      <td>0</td>\n",
       "      <td>0</td>\n",
       "      <td>0</td>\n",
       "      <td>1</td>\n",
       "      <td>0</td>\n",
       "      <td>0</td>\n",
       "      <td>0.995172</td>\n",
       "    </tr>\n",
       "    <tr>\n",
       "      <th>2</th>\n",
       "      <td>3</td>\n",
       "      <td>1</td>\n",
       "      <td>3</td>\n",
       "      <td>Heikkinen, Miss. Laina</td>\n",
       "      <td>female</td>\n",
       "      <td>26.0</td>\n",
       "      <td>0</td>\n",
       "      <td>0</td>\n",
       "      <td>STON/O2. 3101282</td>\n",
       "      <td>7.9250</td>\n",
       "      <td>...</td>\n",
       "      <td>0</td>\n",
       "      <td>0</td>\n",
       "      <td>0</td>\n",
       "      <td>0</td>\n",
       "      <td>0</td>\n",
       "      <td>0</td>\n",
       "      <td>0</td>\n",
       "      <td>0</td>\n",
       "      <td>1</td>\n",
       "      <td>0.521860</td>\n",
       "    </tr>\n",
       "    <tr>\n",
       "      <th>3</th>\n",
       "      <td>4</td>\n",
       "      <td>1</td>\n",
       "      <td>1</td>\n",
       "      <td>Futrelle, Mrs. Jacques Heath (Lily May Peel)</td>\n",
       "      <td>female</td>\n",
       "      <td>35.0</td>\n",
       "      <td>1</td>\n",
       "      <td>0</td>\n",
       "      <td>113803</td>\n",
       "      <td>53.1000</td>\n",
       "      <td>...</td>\n",
       "      <td>0</td>\n",
       "      <td>0</td>\n",
       "      <td>0</td>\n",
       "      <td>0</td>\n",
       "      <td>0</td>\n",
       "      <td>0</td>\n",
       "      <td>0</td>\n",
       "      <td>0</td>\n",
       "      <td>1</td>\n",
       "      <td>0.950223</td>\n",
       "    </tr>\n",
       "    <tr>\n",
       "      <th>4</th>\n",
       "      <td>5</td>\n",
       "      <td>0</td>\n",
       "      <td>3</td>\n",
       "      <td>Allen, Mr. William Henry</td>\n",
       "      <td>male</td>\n",
       "      <td>35.0</td>\n",
       "      <td>0</td>\n",
       "      <td>0</td>\n",
       "      <td>373450</td>\n",
       "      <td>8.0500</td>\n",
       "      <td>...</td>\n",
       "      <td>0</td>\n",
       "      <td>0</td>\n",
       "      <td>0</td>\n",
       "      <td>0</td>\n",
       "      <td>0</td>\n",
       "      <td>0</td>\n",
       "      <td>0</td>\n",
       "      <td>0</td>\n",
       "      <td>1</td>\n",
       "      <td>0.104742</td>\n",
       "    </tr>\n",
       "  </tbody>\n",
       "</table>\n",
       "<p>5 rows × 165 columns</p>\n",
       "</div>"
      ],
      "text/plain": [
       "   PassengerId  Survived  Pclass  \\\n",
       "0            1         0       3   \n",
       "1            2         1       1   \n",
       "2            3         1       3   \n",
       "3            4         1       1   \n",
       "4            5         0       3   \n",
       "\n",
       "                                                Name     Sex   Age  SibSp  \\\n",
       "0                            Braund, Mr. Owen Harris    male  22.0      1   \n",
       "1  Cumings, Mrs. John Bradley (Florence Briggs Th...  female  38.0      1   \n",
       "2                             Heikkinen, Miss. Laina  female  26.0      0   \n",
       "3       Futrelle, Mrs. Jacques Heath (Lily May Peel)  female  35.0      1   \n",
       "4                           Allen, Mr. William Henry    male  35.0      0   \n",
       "\n",
       "   Parch            Ticket     Fare    ...    Cabin_F2 Cabin_F33  Cabin_F38  \\\n",
       "0      0         A/5 21171   7.2500    ...           0         0          0   \n",
       "1      0          PC 17599  71.2833    ...           0         0          0   \n",
       "2      0  STON/O2. 3101282   7.9250    ...           0         0          0   \n",
       "3      0            113803  53.1000    ...           0         0          0   \n",
       "4      0            373450   8.0500    ...           0         0          0   \n",
       "\n",
       "   Cabin_F4  Cabin_G6  Cabin_T  Embarked_C  Embarked_Q  Embarked_S    scores  \n",
       "0         0         0        0           0           0           1  0.059097  \n",
       "1         0         0        0           1           0           0  0.995172  \n",
       "2         0         0        0           0           0           1  0.521860  \n",
       "3         0         0        0           0           0           1  0.950223  \n",
       "4         0         0        0           0           0           1  0.104742  \n",
       "\n",
       "[5 rows x 165 columns]"
      ]
     },
     "execution_count": 28,
     "metadata": {},
     "output_type": "execute_result"
    }
   ],
   "source": [
    "df_score['scores'] = Y_scores_gradBoost.tolist()\n",
    "df_score.head()"
   ]
  },
  {
   "cell_type": "code",
   "execution_count": 79,
   "metadata": {
    "collapsed": false,
    "deletable": true,
    "editable": true
   },
   "outputs": [],
   "source": [
    "# Output to csv\n",
    "#np.savetxt(\"/Users/roberthickling/Documents/Projects/16_08_11_NLB/NLB_testScores_orderID2.csv\", Y_scores_RF_scoringDataset, delimiter=\",\")"
   ]
  },
  {
   "cell_type": "code",
   "execution_count": null,
   "metadata": {
    "collapsed": true,
    "deletable": true,
    "editable": true
   },
   "outputs": [],
   "source": []
  }
 ],
 "metadata": {
  "kernelspec": {
   "display_name": "Python 3",
   "language": "python",
   "name": "python3"
  },
  "language_info": {
   "codemirror_mode": {
    "name": "ipython",
    "version": 3
   },
   "file_extension": ".py",
   "mimetype": "text/x-python",
   "name": "python",
   "nbconvert_exporter": "python",
   "pygments_lexer": "ipython3",
   "version": "3.6.0"
  }
 },
 "nbformat": 4,
 "nbformat_minor": 0
}
